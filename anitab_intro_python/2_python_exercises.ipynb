{
 "cells": [
  {
   "cell_type": "markdown",
   "metadata": {},
   "source": [
    "# Python Exercises - Time to put your new skills to the test!"
   ]
  },
  {
   "cell_type": "markdown",
   "metadata": {},
   "source": [
    "Z. W. Miller - 4/2/18"
   ]
  },
  {
   "cell_type": "markdown",
   "metadata": {},
   "source": [
    "One of the beautiful, yet terrifying things about coding is that now matter how much you know about it... fiddling around will always be the best teacher. With that in mind, let's do some exercises. \n",
    "\n",
    "** For these exercises, try to work them out on your own... but if you get stuck, feel free to chat with your neighbors. After we do all of these, we'll pair off to work on a larger project. **\n",
    "\n",
    "For each exercise, you'll have one function to modify, and then there will be a seperate tester function that checks if your solution works. You should never modify the cells that have the \"tester\" functions in them."
   ]
  },
  {
   "cell_type": "markdown",
   "metadata": {},
   "source": [
    "## Exercise 1: Adding up the unique numbers in a list\n",
    "\n",
    "Given a list of numbers, you need to write a function that will add up all the unique numbers and return the sum."
   ]
  },
  {
   "cell_type": "code",
   "execution_count": null,
   "metadata": {
    "ExecuteTime": {
     "end_time": "2018-04-02T18:40:02.355585Z",
     "start_time": "2018-04-02T18:40:02.351623Z"
    }
   },
   "outputs": [],
   "source": [
    "def add_list(input_list):\n",
    "    pass"
   ]
  },
  {
   "cell_type": "code",
   "execution_count": null,
   "metadata": {
    "ExecuteTime": {
     "end_time": "2018-04-02T18:40:03.710187Z",
     "start_time": "2018-04-02T18:40:03.696646Z"
    }
   },
   "outputs": [],
   "source": [
    "# DON'T CHANGE THIS CELL! IT'S JUST HERE TO TEST YOUR CODE\n",
    "\n",
    "def exercise_1_tester():\n",
    "    \"\"\"\n",
    "    This function will test your add_list function\n",
    "    by putting in some values and making sure you get the\n",
    "    correct answer!\n",
    "    \n",
    "    If you've written your code well, you should see \n",
    "    \"you passed all tests!\" as your output of this cell.\n",
    "    \"\"\"\n",
    "    \n",
    "    assert add_list([1,2,3,4]) == 10, \"Failed on First Test!\"\n",
    "    assert add_list([1,2,3,-4]) == 2, \"Failed on Second Test!\"\n",
    "    assert add_list([]) == 0, \"Failed on Third Test!\"\n",
    "    assert add_list([1,1,1,1,2]) == 3, \"Failed on Fourth Test!\"\n",
    "    assert round(add_list([1.35,2.81,3.97,-4.12]),3) == 4.01, \"Failed on Fifth Test!\"\n",
    "    return \"You passed all tests!\"\n",
    "\n",
    "exercise_1_tester()"
   ]
  },
  {
   "cell_type": "markdown",
   "metadata": {},
   "source": [
    "## Exercise 2: Reverse the String and return every other character\n",
    "\n",
    "Given a string, you need to write a function that will return that string, but backwards and only every second character. So for the string \"hey bob\" it would return \"bbyh\"."
   ]
  },
  {
   "cell_type": "code",
   "execution_count": null,
   "metadata": {
    "ExecuteTime": {
     "end_time": "2018-04-02T18:41:29.984611Z",
     "start_time": "2018-04-02T18:41:29.981017Z"
    }
   },
   "outputs": [],
   "source": [
    "def string_reverser(input_string):\n",
    "    pass"
   ]
  },
  {
   "cell_type": "code",
   "execution_count": null,
   "metadata": {
    "ExecuteTime": {
     "end_time": "2018-04-02T18:41:56.936091Z",
     "start_time": "2018-04-02T18:41:56.924785Z"
    }
   },
   "outputs": [],
   "source": [
    "# DON'T CHANGE THIS CELL! IT'S JUST HERE TO TEST YOUR CODE\n",
    "\n",
    "def exercise_2_tester():\n",
    "    \"\"\"\n",
    "    This function will test your string_reverser function\n",
    "    by putting in some values and making sure you get the\n",
    "    correct answer!\n",
    "    \n",
    "    If you've written your code well, you should see \n",
    "    \"you passed all tests!\" as your output of this cell.\n",
    "    \"\"\"\n",
    "    \n",
    "    assert string_reverser('cat') == 'tc', \"Failed on First Test!\"\n",
    "    assert string_reverser('taCocat') == 'tcCt', \"Failed on Second Test!\"\n",
    "    assert string_reverser('') == '', \"Failed on Third Test!\"\n",
    "    assert string_reverser('handle spaces') == 'scp lnh', \"Failed on Fourth Test!\"\n",
    "    assert string_reverser('l3tt3rs & numb3rs') == \"s3mn&s3tl\", \"Failed on Fifth Test!\"\n",
    "    return \"You passed all tests!\"\n",
    "\n",
    "exercise_2_tester()"
   ]
  },
  {
   "cell_type": "markdown",
   "metadata": {},
   "source": [
    "## Exercise 3: Handling data types\n",
    "\n",
    "Let's step up the challenge a bit. Let's write a function that behaves differently depending on the data type. \n",
    "\n",
    "* If it's a list or tuple, return how many items are in the list or tuple. \n",
    "* If it's a string, return how many letters are in the string. \n",
    "* If it's a number with decimals, return the number the whole number that's closest without going over. \n",
    "* If it's an integer, return the word \"integer\". \n",
    "* If it's none of those, return the phrase \"I don't know this data type\"."
   ]
  },
  {
   "cell_type": "code",
   "execution_count": null,
   "metadata": {
    "ExecuteTime": {
     "end_time": "2018-04-02T18:16:57.237473Z",
     "start_time": "2018-04-02T18:16:57.227441Z"
    }
   },
   "outputs": [],
   "source": [
    "def data_type_handler(input_data):\n",
    "    pass\n"
   ]
  },
  {
   "cell_type": "code",
   "execution_count": null,
   "metadata": {
    "ExecuteTime": {
     "end_time": "2018-04-02T18:18:46.956083Z",
     "start_time": "2018-04-02T18:18:46.943279Z"
    }
   },
   "outputs": [],
   "source": [
    "# DON'T CHANGE THIS CELL! IT'S JUST HERE TO TEST YOUR CODE\n",
    "\n",
    "def exercise_3_tester():\n",
    "    \"\"\"\n",
    "    This function will test your data_type_handler function\n",
    "    by putting in some values and making sure you get the\n",
    "    correct answer!\n",
    "    \n",
    "    If you've written your code well, you should see \n",
    "    \"you passed all tests!\" as your output of this cell.\n",
    "    \"\"\"\n",
    "    \n",
    "    assert data_type_handler('cat') == 3, \"Failed on First Test!\"\n",
    "    assert data_type_handler([1,2,3,4,5]) == 5, \"Failed on Second Test!\"\n",
    "    assert data_type_handler(1.531) == 1, \"Failed on Third Test!\"\n",
    "    assert data_type_handler(1) == 'integer', \"Failed on Fourth Test!\"\n",
    "    assert data_type_handler(set([1,2,3,4,4])) == \"I don't know this data type\", \"Failed on Fifth Test!\"\n",
    "    return \"You passed all tests!\"\n",
    "\n",
    "exercise_3_tester()"
   ]
  },
  {
   "cell_type": "markdown",
   "metadata": {},
   "source": [
    "## Exercise 4: Anagrams\n",
    "\n",
    "Given two strings, determine if the second word can be made from a rearrangment of the first. Return True if it can, False if it cannot."
   ]
  },
  {
   "cell_type": "code",
   "execution_count": null,
   "metadata": {
    "ExecuteTime": {
     "end_time": "2018-04-03T15:49:25.191020Z",
     "start_time": "2018-04-03T15:49:25.178331Z"
    }
   },
   "outputs": [],
   "source": [
    "def anagram_checker(word1, word2):\n",
    "    pass\n",
    "    "
   ]
  },
  {
   "cell_type": "code",
   "execution_count": null,
   "metadata": {
    "ExecuteTime": {
     "end_time": "2018-04-03T15:49:47.473673Z",
     "start_time": "2018-04-03T15:49:47.461542Z"
    }
   },
   "outputs": [],
   "source": [
    "# DON'T CHANGE THIS CELL! IT'S JUST HERE TO TEST YOUR CODE\n",
    "\n",
    "def exercise_4_tester():\n",
    "    \"\"\"\n",
    "    This function will test your anagram_checker function\n",
    "    by putting in some values and making sure you get the\n",
    "    correct answer!\n",
    "    \n",
    "    If you've written your code well, you should see \n",
    "    \"you passed all tests!\" as your output of this cell.\n",
    "    \"\"\"\n",
    "    \n",
    "    assert anagram_checker('cat','tac') == True, \"Failed on First Test!\"\n",
    "    assert anagram_checker('taCo','taco') == False, \"Failed on Second Test!\"\n",
    "    assert anagram_checker('realm','realm ') == False, \"Failed on Third Test!\"\n",
    "    assert anagram_checker('rail safety','fairy tales') == True, \"Failed on Fourth Test!\"\n",
    "    assert anagram_checker('steve','bob') == False, \"Failed on Fifth Test!\"\n",
    "    return \"You passed all tests!\"\n",
    "\n",
    "exercise_4_tester()"
   ]
  },
  {
   "cell_type": "markdown",
   "metadata": {},
   "source": [
    "## Exercise 5: Running Average Calculator\n",
    "\n",
    "Write a class that keeps track of the average of all numbers it's seen before. To do that, you'll need a few methods: one that allows you to add a number or list of numbers, and one that returns the current mean of the numbers it's seen. "
   ]
  },
  {
   "cell_type": "code",
   "execution_count": null,
   "metadata": {},
   "outputs": [],
   "source": [
    "class running_average:\n",
    "    \n",
    "    def __init__(self):\n",
    "        pass\n",
    "    \n",
    "    def add_new_number(self):\n",
    "        pass\n",
    "    \n",
    "    def add_new_list_of_numbers(self):\n",
    "        pass\n",
    "    \n",
    "    def get_current_mean(self):\n",
    "        pass"
   ]
  },
  {
   "cell_type": "code",
   "execution_count": null,
   "metadata": {
    "ExecuteTime": {
     "end_time": "2018-04-03T19:52:23.500663Z",
     "start_time": "2018-04-03T19:52:23.484010Z"
    }
   },
   "outputs": [],
   "source": [
    "# DON'T CHANGE THIS CELL! IT'S JUST HERE TO TEST YOUR CODE\n",
    "\n",
    "def exercise_5_tester():\n",
    "    \"\"\"\n",
    "    This function will test your running_average class\n",
    "    by putting in some values and making sure you get the\n",
    "    correct answer!\n",
    "    \n",
    "    If you've written your code well, you should see \n",
    "    \"you passed all tests!\" as your output of this cell.\n",
    "    \"\"\"\n",
    "    ra = running_average()\n",
    "    \n",
    "    ra.add_new_list_of_numbers([1,2,3,4,5,6,7])\n",
    "    assert ra.get_current_mean() == 4, \"Failed on First Test!\"\n",
    "    \n",
    "    ra.add_new_number(10)\n",
    "    assert ra.get_current_mean() == 4.75, \"Failed on Second Test!\"\n",
    "    \n",
    "    ra.add_new_list_of_numbers([-5,-3,-2,-2,0])\n",
    "    assert ra.get_current_mean() == 2.0, \"Failed on Third Test!\"\n",
    "\n",
    "    return \"You passed all tests!\"\n",
    "\n",
    "exercise_5_tester()"
   ]
  },
  {
   "cell_type": "markdown",
   "metadata": {},
   "source": [
    "# Bonus challenge 1: Monty Hall problem\n",
    "\n",
    "You can read more about the Monty Hall problem here: https://en.wikipedia.org/wiki/Monty_Hall_problem\n",
    "\n",
    "For our purposes, we want to prove that there's an advantage to changing doors. We're going to do that using random numbers. Your goal is to write a function that computes what percentage of the time someone wins if they change doors, vs. what percentage they win if they do not. To get you started, you can see how to do random integer generation below."
   ]
  },
  {
   "cell_type": "code",
   "execution_count": null,
   "metadata": {
    "ExecuteTime": {
     "end_time": "2018-04-23T13:10:27.489889Z",
     "start_time": "2018-04-23T13:10:27.346833Z"
    }
   },
   "outputs": [],
   "source": [
    "import numpy as np\n",
    "\n",
    "np.random.randint(3)"
   ]
  },
  {
   "cell_type": "code",
   "execution_count": null,
   "metadata": {
    "ExecuteTime": {
     "end_time": "2018-07-03T13:14:35.018700Z",
     "start_time": "2018-07-03T13:14:35.016003Z"
    }
   },
   "outputs": [],
   "source": [
    "def monty_hall_no_change():\n",
    "    pass\n",
    "    "
   ]
  },
  {
   "cell_type": "code",
   "execution_count": null,
   "metadata": {
    "ExecuteTime": {
     "end_time": "2018-07-03T13:14:42.072776Z",
     "start_time": "2018-07-03T13:14:42.069900Z"
    }
   },
   "outputs": [],
   "source": [
    "def monty_hall_change():\n",
    "    pass"
   ]
  },
  {
   "cell_type": "markdown",
   "metadata": {},
   "source": [
    "## Bonus Challenge 2: Greatest Common Denominator\n",
    "\n",
    "Given two numbers, can you find the largest value that equally divides into both values? Write a function that takes in two values and computes the greatest common denominator. As an added bonus, write your own tester function as well based on the ones above. This will help you begin to think about how you can test your code to make sure it does what you think it does!\n",
    "\n",
    "If you write it in one way that's very straight forward, try to think of other, more interesting ways to solve the problem!"
   ]
  },
  {
   "cell_type": "code",
   "execution_count": null,
   "metadata": {
    "ExecuteTime": {
     "end_time": "2018-04-03T20:39:04.409619Z",
     "start_time": "2018-04-03T20:39:04.402153Z"
    }
   },
   "outputs": [],
   "source": [
    "def greatest_common_denominator_brute_force(num1, num2):\n",
    "    pass"
   ]
  },
  {
   "cell_type": "code",
   "execution_count": null,
   "metadata": {
    "ExecuteTime": {
     "end_time": "2018-04-03T20:39:04.892994Z",
     "start_time": "2018-04-03T20:39:04.879832Z"
    }
   },
   "outputs": [],
   "source": [
    "# DON'T CHANGE THIS CELL! IT'S JUST HERE TO TEST YOUR CODE\n",
    "\n",
    "def bonus_2_tester():\n",
    "    \"\"\"\n",
    "    This function will test your gcd function\n",
    "    by putting in some values and making sure you get the\n",
    "    correct answer!\n",
    "    \n",
    "    If you've written your code well, you should see \n",
    "    \"you passed all tests!\" as your output of this cell.\n",
    "    \"\"\"\n",
    "    assert greatest_common_denominator_brute_force(16,32) == 16, \"Failed on First Test!\"\n",
    "    assert greatest_common_denominator_brute_force(9,12) == 3, \"Failed on Second Test!\"\n",
    "    assert greatest_common_denominator_brute_force(17,32) == -1, \"Failed on Third Test!\"\n",
    "\n",
    "    return \"You passed all tests!\"\n",
    "\n",
    "bonus_2_tester()"
   ]
  },
  {
   "cell_type": "code",
   "execution_count": null,
   "metadata": {},
   "outputs": [],
   "source": []
  }
 ],
 "metadata": {
  "kernelspec": {
   "display_name": "Python [default]",
   "language": "python",
   "name": "python3"
  },
  "language_info": {
   "codemirror_mode": {
    "name": "ipython",
    "version": 3
   },
   "file_extension": ".py",
   "mimetype": "text/x-python",
   "name": "python",
   "nbconvert_exporter": "python",
   "pygments_lexer": "ipython3",
   "version": "3.6.5"
  },
  "toc": {
   "nav_menu": {},
   "number_sections": true,
   "sideBar": true,
   "skip_h1_title": false,
   "toc_cell": false,
   "toc_position": {},
   "toc_section_display": "block",
   "toc_window_display": false
  }
 },
 "nbformat": 4,
 "nbformat_minor": 2
}
